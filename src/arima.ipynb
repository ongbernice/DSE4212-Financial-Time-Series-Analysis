{
 "cells": [
  {
   "cell_type": "code",
   "execution_count": 15,
   "metadata": {},
   "outputs": [],
   "source": [
    "import pandas as pd\n",
    "import numpy as np\n",
    "from sklearn.preprocessing import StandardScaler\n",
    "import matplotlib.pyplot as plt\n",
    "import seaborn as sns\n",
    "from statsmodels.graphics.tsaplots import plot_acf, plot_pacf\n",
    "from statsmodels.tsa.stattools import adfuller\n",
    "from statsmodels.tsa.arima.model import ARIMA\n",
    "from sklearn.metrics import root_mean_squared_error, mean_absolute_error, mean_absolute_percentage_error\n",
    "import statsmodels.api as sm\n",
    "import warnings\n",
    "\n",
    "# Suppress warnings for cleaner output\n",
    "warnings.filterwarnings('ignore')"
   ]
  },
  {
   "cell_type": "markdown",
   "metadata": {},
   "source": [
    "# Load Data"
   ]
  },
  {
   "cell_type": "code",
   "execution_count": 2,
   "metadata": {},
   "outputs": [],
   "source": [
    "# Load data\n",
    "data = pd.read_csv('../data/stocks_clean.csv', index_col='Date', parse_dates=True)"
   ]
  },
  {
   "cell_type": "code",
   "execution_count": 3,
   "metadata": {},
   "outputs": [
    {
     "name": "stdout",
     "output_type": "stream",
     "text": [
      "ADF Test for AAPL Stock Price:\n",
      "ADF Statistic: -0.08836021695954817\n",
      "p-value: 0.9505856301965474\n",
      "Critical Value (1%): -3.4340519866364954\n",
      "Critical Value (5%): -2.8631752211631247\n",
      "Critical Value (10%): -2.5676405414939345\n",
      "---\n",
      "\n",
      "The data is non-stationary (fail to reject the null hypothesis).\n",
      "---\n",
      "\n"
     ]
    }
   ],
   "source": [
    "# Perform ADF Test and print results\n",
    "result = adfuller(data['aapl_adj_close'])\n",
    "print(f'ADF Test for AAPL Stock Price:')\n",
    "print(f'ADF Statistic: {result[0]}')\n",
    "print(f'p-value: {result[1]}')\n",
    "for key, value in result[4].items():\n",
    "    print(f'Critical Value ({key}): {value}')\n",
    "print('---\\n')\n",
    "# Determine if the series is stationary\n",
    "p_value = result[1]\n",
    "if p_value < 0.05:\n",
    "    print(\"The data is stationary (reject the null hypothesis).\")\n",
    "else:\n",
    "    print(\"The data is non-stationary (fail to reject the null hypothesis).\")\n",
    "print('---\\n')"
   ]
  },
  {
   "cell_type": "code",
   "execution_count": 4,
   "metadata": {},
   "outputs": [],
   "source": [
    "diff_data = data['aapl_adj_close'].diff().dropna()"
   ]
  },
  {
   "cell_type": "code",
   "execution_count": 5,
   "metadata": {},
   "outputs": [
    {
     "name": "stdout",
     "output_type": "stream",
     "text": [
      "ADF Test for Differenced AAPL Stock Price:\n",
      "ADF Statistic: -42.56427958822331\n",
      "p-value: 0.0\n",
      "Critical Value (1%): -3.434054083572257\n",
      "Critical Value (5%): -2.8631761468358614\n",
      "Critical Value (10%): -2.567641034389652\n",
      "---\n",
      "\n",
      "The data is stationary (reject the null hypothesis).\n",
      "---\n",
      "\n"
     ]
    }
   ],
   "source": [
    "# Perform ADF Test and print results\n",
    "result = adfuller(diff_data)\n",
    "print(f'ADF Test for Differenced AAPL Stock Price:')\n",
    "print(f'ADF Statistic: {result[0]}')\n",
    "print(f'p-value: {result[1]}')\n",
    "for key, value in result[4].items():\n",
    "    print(f'Critical Value ({key}): {value}')\n",
    "print('---\\n')\n",
    "# Determine if the series is stationary\n",
    "p_value = result[1]\n",
    "if p_value < 0.05:\n",
    "    print(\"The data is stationary (reject the null hypothesis).\")\n",
    "else:\n",
    "    print(\"The data is non-stationary (fail to reject the null hypothesis).\")\n",
    "print('---\\n')"
   ]
  },
  {
   "cell_type": "markdown",
   "metadata": {},
   "source": [
    "# Normalise Data"
   ]
  },
  {
   "cell_type": "code",
   "execution_count": 6,
   "metadata": {},
   "outputs": [],
   "source": [
    "y = data['aapl_adj_close']\n",
    "X = data.drop(columns=['aapl_adj_close'])\n",
    "\n",
    "# Initialize the StandardScaler\n",
    "scaler_X = StandardScaler()\n",
    "scaler_y = StandardScaler()\n",
    "\n",
    "# Fit and transform the features (X)\n",
    "X_scaled = scaler_X.fit_transform(X)\n",
    "\n",
    "# Convert the scaled X back to a DataFrame with original column names\n",
    "X_scaled = pd.DataFrame(X_scaled, columns=X.columns, index=X.index)\n",
    "\n",
    "# Fit and transform the target (y), needs to be reshaped as it's 1D\n",
    "y_scaled = scaler_y.fit_transform(y.values.reshape(-1, 1))\n",
    "\n",
    "# Convert the scaled y back to a DataFrame to preserve column name\n",
    "y_scaled = pd.DataFrame(y_scaled, columns=['aapl_adj_close'], index=y.index)\n"
   ]
  },
  {
   "cell_type": "markdown",
   "metadata": {},
   "source": [
    "# Train-Test Split"
   ]
  },
  {
   "cell_type": "code",
   "execution_count": 7,
   "metadata": {},
   "outputs": [
    {
     "name": "stdout",
     "output_type": "stream",
     "text": [
      "Train size: 1416, Test size: 354\n"
     ]
    }
   ],
   "source": [
    "train_size = 0.8\n",
    "ntrain = round(len(y) * 0.8)\n",
    "ntest = len(y) - ntrain\n",
    "X_train, X_test = X[:ntrain], X[ntrain:]\n",
    "y_train, y_test = y[:ntrain], y[ntrain:]\n",
    "print(f\"Train size: {ntrain}, Test size: {ntest}\")"
   ]
  },
  {
   "cell_type": "markdown",
   "metadata": {},
   "source": [
    "# ARIMA Model"
   ]
  },
  {
   "cell_type": "code",
   "execution_count": 8,
   "metadata": {},
   "outputs": [],
   "source": [
    "# Function to evaluate ARIMA model\n",
    "def evaluate_arima_model(y_train, y_test, arima_order):\n",
    "    # Fit the ARIMA model on the training set (target only)\n",
    "    model = ARIMA(y_train, order=arima_order)\n",
    "    model_fit = model.fit()\n",
    "    \n",
    "    # Forecasting the test set period\n",
    "    forecast = model_fit.forecast(steps=len(y_test))\n",
    "    \n",
    "    # Calculate RMSE between actual test set and the forecast\n",
    "    error = root_mean_squared_error(y_test, forecast)\n",
    "    \n",
    "    return error"
   ]
  },
  {
   "cell_type": "code",
   "execution_count": 9,
   "metadata": {},
   "outputs": [],
   "source": [
    "# Grid search for ARIMA hyperparameters (p, d, q)\n",
    "def grid_search_arima(y_train, y_test, p_values, d_values, q_values):\n",
    "    best_score, best_order = float(\"inf\"), None\n",
    "    for p in p_values:\n",
    "        for d in d_values:\n",
    "            for q in q_values:\n",
    "                order = (p, d, q)\n",
    "                try:\n",
    "                    rmse = evaluate_arima_model(y_train, y_test, order)\n",
    "                    if rmse < best_score:\n",
    "                        best_score, best_order = rmse, order\n",
    "                    print(f'ARIMA{order} RMSE={rmse}')\n",
    "                except:\n",
    "                    continue\n",
    "    print(f'Best ARIMA model: ARIMA{best_order} with MSE={best_score}')\n",
    "    return best_order"
   ]
  },
  {
   "cell_type": "code",
   "execution_count": 10,
   "metadata": {},
   "outputs": [],
   "source": [
    "# Define the range for p, d, and q \n",
    "p_values = range(0, 3)  # Try p = 0, 1, 2\n",
    "d_values = range(0, 2)  # Try d = 0, 1 (first differencing)\n",
    "q_values = range(0, 3)  # Try q = 0, 1, 2"
   ]
  },
  {
   "cell_type": "code",
   "execution_count": 11,
   "metadata": {},
   "outputs": [
    {
     "name": "stdout",
     "output_type": "stream",
     "text": [
      "ARIMA(0, 0, 0) RMSE=95.53482185887178\n",
      "ARIMA(0, 0, 1) RMSE=95.47906549466622\n",
      "ARIMA(0, 0, 2) RMSE=95.42571431265219\n",
      "ARIMA(0, 1, 0) RMSE=30.127827660436136\n",
      "ARIMA(0, 1, 1) RMSE=30.078752319609688\n",
      "ARIMA(0, 1, 2) RMSE=30.02988483352269\n",
      "ARIMA(1, 0, 0) RMSE=39.38504111219931\n",
      "ARIMA(1, 0, 1) RMSE=38.321450671525945\n",
      "ARIMA(1, 0, 2) RMSE=37.979585723630095\n",
      "ARIMA(1, 1, 0) RMSE=30.08615759750271\n",
      "ARIMA(1, 1, 1) RMSE=30.033071542407363\n",
      "ARIMA(1, 1, 2) RMSE=30.020601171245286\n",
      "ARIMA(2, 0, 0) RMSE=38.27772445476377\n",
      "ARIMA(2, 0, 1) RMSE=35.657555603848294\n",
      "ARIMA(2, 0, 2) RMSE=33.921472947464075\n",
      "ARIMA(2, 1, 0) RMSE=30.0402327073513\n",
      "ARIMA(2, 1, 1) RMSE=30.01854018494362\n",
      "ARIMA(2, 1, 2) RMSE=30.026454845153836\n",
      "Best ARIMA model: ARIMA(2, 1, 1) with MSE=30.01854018494362\n"
     ]
    }
   ],
   "source": [
    "# Perform grid search to find the best (p, d, q) values for ARIMA model\n",
    "best_order = grid_search_arima(y_train, y_test, p_values, d_values, q_values)"
   ]
  },
  {
   "cell_type": "markdown",
   "metadata": {},
   "source": [
    "### ARIMA Model Selection\n",
    "The ARIMA model was chosen based on the grid search over different values of p, d, and q. These parameters represent the following:\n",
    "\n",
    "- **p**: Number of lag observations included (Auto-regressive part)\n",
    "- **d**: Degree of differencing (to make the data stationary)\n",
    "- **q**: Size of the moving average window\n",
    "\n",
    "The grid search selected the best combination of parameters based on the lowest **AIC** (Akaike Information Criterion) or **MSE** (Mean Squared Error). Lower values of AIC/BIC indicate a better-fitting model."
   ]
  },
  {
   "cell_type": "code",
   "execution_count": 12,
   "metadata": {},
   "outputs": [],
   "source": [
    "# Fit the best ARIMA model on the full training data\n",
    "model = ARIMA(y_train, order=best_order)\n",
    "model_fit = model.fit()"
   ]
  },
  {
   "cell_type": "code",
   "execution_count": 13,
   "metadata": {},
   "outputs": [
    {
     "name": "stdout",
     "output_type": "stream",
     "text": [
      "                               SARIMAX Results                                \n",
      "==============================================================================\n",
      "Dep. Variable:         aapl_adj_close   No. Observations:                 1416\n",
      "Model:                 ARIMA(2, 1, 1)   Log Likelihood               -3074.316\n",
      "Date:                Wed, 30 Oct 2024   AIC                           6156.633\n",
      "Time:                        10:58:33   BIC                           6177.652\n",
      "Sample:                             0   HQIC                          6164.486\n",
      "                               - 1416                                         \n",
      "Covariance Type:                  opg                                         \n",
      "==============================================================================\n",
      "                 coef    std err          z      P>|z|      [0.025      0.975]\n",
      "------------------------------------------------------------------------------\n",
      "ar.L1          0.3029      0.491      0.617      0.537      -0.660       1.266\n",
      "ar.L2         -0.0151      0.036     -0.419      0.676      -0.086       0.056\n",
      "ma.L1         -0.3563      0.493     -0.722      0.470      -1.323       0.610\n",
      "sigma2         4.5146      0.102     44.211      0.000       4.314       4.715\n",
      "===================================================================================\n",
      "Ljung-Box (L1) (Q):                   0.01   Jarque-Bera (JB):               844.04\n",
      "Prob(Q):                              0.93   Prob(JB):                         0.00\n",
      "Heteroskedasticity (H):              14.45   Skew:                            -0.05\n",
      "Prob(H) (two-sided):                  0.00   Kurtosis:                         6.78\n",
      "===================================================================================\n",
      "\n",
      "Warnings:\n",
      "[1] Covariance matrix calculated using the outer product of gradients (complex-step).\n"
     ]
    }
   ],
   "source": [
    "# Print the summary of the best ARIMA model\n",
    "print(model_fit.summary())"
   ]
  },
  {
   "cell_type": "markdown",
   "metadata": {},
   "source": [
    "### ARIMA Model Forecast vs. Actual Test Data\n",
    "In this plot, we compare the ARIMA model's forecast against the actual test data. The model was trained on 80% of the dataset and used to forecast the remaining 20% (test set).\n",
    "\n",
    "The red line represents the model’s forecast, while the blue line represents the actual test data. The closer these lines are, the more accurate the model is."
   ]
  },
  {
   "cell_type": "code",
   "execution_count": null,
   "metadata": {},
   "outputs": [],
   "source": [
    "# Forecast the test set period\n",
    "forecast = model_fit.forecast(steps=len(y_test))\n",
    "\n",
    "# Inverse transform forecast and actual values to original scale\n",
    "forecast_unscaled = scaler_y.inverse_transform(forecast.to_numpy().reshape(-1, 1))\n",
    "y_test_unscaled = scaler_y.inverse_transform(y_test)\n",
    "y_train_unscaled = scaler_y.inverse_transform(y_train)"
   ]
  },
  {
   "cell_type": "markdown",
   "metadata": {},
   "source": [
    "### ARIMA Model Performance Analysis\n",
    "Visual Analysis: From the forecast plot, we can observe that the predicted values (red line) deviate significantly from the actual stock prices (orange line) in several areas. This indicates that the ARIMA model struggled to capture some of the underlying trends and volatility in the data. The stock prices exhibited complex patterns, including sharp rises and falls, which the ARIMA model could not fully accommodate."
   ]
  },
  {
   "cell_type": "code",
   "execution_count": null,
   "metadata": {},
   "outputs": [],
   "source": [
    "# Inverse transformation for better interpretability\n",
    "y_train_unscaled = pd.Series(y_train_unscaled.flatten(), index=y_train.index)\n",
    "y_test_unscaled = pd.Series(y_test_unscaled.flatten(), index=y_test.index)\n",
    "forecast_unscaled = pd.Series(forecast_unscaled.flatten(), index=y_test.index)\n",
    "\n",
    "plt.figure(figsize=(10, 6))\n",
    "plt.plot(y_train_unscaled.index, y_train_unscaled, label='Train Data (Unscaled)')\n",
    "plt.plot(y_test_unscaled.index, y_test_unscaled, label='Actual Test Data (Unscaled)')\n",
    "plt.plot(forecast_unscaled.index, forecast_unscaled, label='Forecast (Unscaled)', color='red')\n",
    "plt.title('ARIMA Model Forecast vs Actual Test Data (Unscaled)')\n",
    "plt.xlabel('Date')\n",
    "plt.ylabel('Stock Price')\n",
    "plt.legend()\n",
    "plt.show()"
   ]
  },
  {
   "cell_type": "markdown",
   "metadata": {},
   "source": [
    "### Quantitative Analysis: \n",
    "\n",
    "The performance of the ARIMA model was further evaluated using the following error metrics - RMSE and MAE.\n",
    "\n",
    "Interpretation: RMSE and MAE are approximately 100% of the average stock price. Such high error values suggest that the model may not be fully effective in forecasting stock prices, especially in financial time series where even small deviations can significantly impact predictive accuracy. These high errors also imply that the ARIMA model may not be accounting well for the volatility. There is a need to explore more advanced models, such as SARIMA, ARIMAX or LSTMs."
   ]
  },
  {
   "cell_type": "code",
   "execution_count": null,
   "metadata": {},
   "outputs": [],
   "source": [
    "rmse = root_mean_squared_error(y_test_unscaled, forecast)\n",
    "mae = mean_absolute_error(y_test_unscaled, forecast)\n",
    "mape = mean_absolute_percentage_error(y_test_unscaled, forecast) * 100\n",
    "\n",
    "print(f'Root Mean Squared Error (RMSE): {rmse}')\n",
    "print(f'Mean Absolute Error (MAE): {mae}')\n",
    "print(f'Mean Absolute Percentage Error (MAPE): {mape}')"
   ]
  },
  {
   "cell_type": "code",
   "execution_count": null,
   "metadata": {},
   "outputs": [],
   "source": [
    "# Calculate average stock price in y_test for comparison\n",
    "average_price = np.mean(y_test_unscaled)\n",
    "\n",
    "# Calculate percentage of RMSE and MAE relative to the average price\n",
    "rmse_percentage = (rmse / average_price) * 100\n",
    "mae_percentage = (mae / average_price) * 100\n",
    "mape_percentage = (mape / average_price) * 100\n",
    "\n",
    "print(f'Average Stock Price in Test Set: {average_price}')\n",
    "print(f'RMSE as percentage of average price: {rmse_percentage}%')\n",
    "print(f'MAE as percentage of average price: {mae_percentage}%')\n",
    "print(f'MAPE as percentage of average price: {mape_percentage}%')"
   ]
  },
  {
   "cell_type": "markdown",
   "metadata": {},
   "source": [
    "# Sliding window ARIMA with exogenous variables (ARIMAX)\n",
    "\n",
    "To better capture dynamic changes in financial data, this approach re-trains the model on a sliding window basis. Using exogenous variables adds external influences to improve prediction accuracy. We implement 2 adjustments:\n",
    "1. Sliding Window ARIMA: A rolling window approach to allow the model to continually re-train on the latest data, adapting better to recent market changes while preserving historical patterns, which is essential for dynamic financial series.\n",
    "2. Exogenous Variables (ARIMAX): Including external variables (other stocks - MSFT, GOOGL, AMZN, TSLA, META) could add predictive power to the model by accounting for factors beyond historical stock prices"
   ]
  },
  {
   "cell_type": "code",
   "execution_count": null,
   "metadata": {},
   "outputs": [],
   "source": [
    "# Initialize parameters\n",
    "\n",
    "# The 60-day window size is a reasonable one as it provides roughly two months of recent data to capture short-term trends while maintaining adaptability to new patterns\n",
    "window_size = 60  \n",
    "#  Based on prior ARIMA analysis, fine-tuned with grid search\n",
    "p, d, q = 1, 1, 2  "
   ]
  },
  {
   "cell_type": "code",
   "execution_count": null,
   "metadata": {},
   "outputs": [],
   "source": [
    "# This model will re-train on each 60-day window to better predict the next data point.\n",
    "# Lists to store predictions\n",
    "predictions = []\n",
    "\n",
    "# Iterate over the test set with a sliding window\n",
    "for i in range(len(y_test)):\n",
    "    # Define training data for the current window\n",
    "    X_window = pd.concat([X_train, X_test.iloc[:i]]).iloc[-window_size:]\n",
    "    y_window = pd.concat([y_train, y_test.iloc[:i]]).iloc[-window_size:]\n",
    "\n",
    "    # Fit the ARIMAX model on the window\n",
    "    model = ARIMA(endog=y_window, exog=X_window, order=(p, d, q))\n",
    "    model_fit = model.fit()\n",
    "    \n",
    "    # Forecast the next step using the current window model\n",
    "    forecast = model_fit.forecast(steps=1, exog=X_test.iloc[i:i+1])\n",
    "    \n",
    "    # Store the prediction\n",
    "    predictions.append(forecast.values[0])\n",
    "\n",
    "# Inverse transformation for better interpretability \n",
    "y_test_unscaled = scaler_y.inverse_transform(y_test)\n",
    "predictions_unscaled = scaler_y.inverse_transform(np.array(predictions).reshape(-1, 1))"
   ]
  },
  {
   "cell_type": "markdown",
   "metadata": {},
   "source": [
    "### Sliding Window ARIMAX Forecast Results\n",
    "\n",
    "The sliding window ARIMAX model was applied, with a 60-day window to continually update the model with recent data. Predictions are generated iteratively for each time step in the test set."
   ]
  },
  {
   "cell_type": "code",
   "execution_count": null,
   "metadata": {},
   "outputs": [],
   "source": [
    "plt.figure(figsize=(10, 6))\n",
    "plt.plot(y.index[ntrain:], y_test_unscaled, label='Actual Test Data')\n",
    "plt.plot(y.index[ntrain:], predictions_unscaled, color='red', label='ARIMAX Sliding Window Forecast')\n",
    "plt.title('ARIMAX Sliding Window Forecast vs Actual Test Data')\n",
    "plt.xlabel('Date')\n",
    "plt.ylabel('Stock Price')\n",
    "plt.legend()\n",
    "plt.show()"
   ]
  },
  {
   "cell_type": "markdown",
   "metadata": {},
   "source": [
    "### Quantitative Analysis\n",
    "\n",
    "With RMSE and MAE values at 1.63% and 1.15% of the average stock price, respectively, the ARIMAX model shows strong predictive performance, capturing the general trend of stock prices with minimal error. In the context of financial time series data, where high volatility and complex patterns are typical, these results suggest that the ARIMAX model is well-suited to this dataset."
   ]
  },
  {
   "cell_type": "code",
   "execution_count": null,
   "metadata": {},
   "outputs": [],
   "source": [
    "# Calculate RMSE and MAE\n",
    "rmse = root_mean_squared_error(y_test_unscaled, predictions_unscaled)\n",
    "mae = mean_absolute_error(y_test_unscaled, predictions_unscaled)\n",
    "mape = mean_absolute_percentage_error(y_test_unscaled, predictions_unscaled) * 100\n",
    "\n",
    "print(f'Root Mean Squared Error (RMSE): {rmse}')\n",
    "print(f'Mean Absolute Error (MAE): {mae}')\n",
    "print(f'Mean Absolute Percentage Error (MAPE): {mape}')"
   ]
  },
  {
   "cell_type": "code",
   "execution_count": null,
   "metadata": {},
   "outputs": [],
   "source": [
    "# Calculate average stock price in y_test_unscaled for comparison\n",
    "average_price = np.mean(y_test_unscaled)\n",
    "\n",
    "# Calculate RMSE and MAE as percentages of the average stock price\n",
    "rmse_percentage = (rmse / average_price) * 100\n",
    "mae_percentage = (mae / average_price) * 100\n",
    "mape_percentage = (mape / average_price) * 100\n",
    "\n",
    "print(f'Average Stock Price in Test Set: {average_price}')\n",
    "print(f'RMSE as percentage of average price: {rmse_percentage:.2f}%')\n",
    "print(f'MAE as percentage of average price: {mae_percentage:.2f}%')\n",
    "print(f'MAPE as percentage of average price: {mape_percentage:.2f}%')"
   ]
  }
 ],
 "metadata": {
  "kernelspec": {
   "display_name": "Python 3",
   "language": "python",
   "name": "python3"
  },
  "language_info": {
   "codemirror_mode": {
    "name": "ipython",
    "version": 3
   },
   "file_extension": ".py",
   "mimetype": "text/x-python",
   "name": "python",
   "nbconvert_exporter": "python",
   "pygments_lexer": "ipython3",
   "version": "3.9.9"
  }
 },
 "nbformat": 4,
 "nbformat_minor": 2
}
