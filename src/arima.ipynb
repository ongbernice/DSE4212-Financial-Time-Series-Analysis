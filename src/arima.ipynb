{
 "cells": [
  {
   "cell_type": "code",
   "execution_count": 1,
   "metadata": {},
   "outputs": [],
   "source": [
    "import pandas as pd\n",
    "import numpy as np\n",
    "from sklearn.preprocessing import StandardScaler\n",
    "import matplotlib.pyplot as plt\n",
    "import seaborn as sns\n",
    "from statsmodels.graphics.tsaplots import plot_acf, plot_pacf\n",
    "from statsmodels.tsa.stattools import adfuller\n",
    "from statsmodels.tsa.arima.model import ARIMA\n",
    "from sklearn.metrics import root_mean_squared_error, mean_absolute_error, mean_absolute_percentage_error\n",
    "import statsmodels.api as sm\n",
    "import warnings\n",
    "\n",
    "# Suppress warnings for cleaner output\n",
    "warnings.filterwarnings('ignore')"
   ]
  },
  {
   "cell_type": "markdown",
   "metadata": {},
   "source": [
    "# Load Data"
   ]
  },
  {
   "cell_type": "code",
   "execution_count": 2,
   "metadata": {},
   "outputs": [],
   "source": [
    "# Load data\n",
    "data = pd.read_csv('../data/stocks_clean.csv', index_col='Date', parse_dates=True)"
   ]
  },
  {
   "cell_type": "code",
   "execution_count": 3,
   "metadata": {},
   "outputs": [
    {
     "name": "stdout",
     "output_type": "stream",
     "text": [
      "ADF Test for AAPL Stock Price:\n",
      "ADF Statistic: -0.08836021695954817\n",
      "p-value: 0.9505856301965474\n",
      "Critical Value (1%): -3.4340519866364954\n",
      "Critical Value (5%): -2.8631752211631247\n",
      "Critical Value (10%): -2.5676405414939345\n",
      "---\n",
      "\n",
      "The data is non-stationary (fail to reject the null hypothesis).\n",
      "---\n",
      "\n"
     ]
    }
   ],
   "source": [
    "# Perform ADF Test and print results\n",
    "result = adfuller(data['aapl_adj_close'])\n",
    "print(f'ADF Test for AAPL Stock Price:')\n",
    "print(f'ADF Statistic: {result[0]}')\n",
    "print(f'p-value: {result[1]}')\n",
    "for key, value in result[4].items():\n",
    "    print(f'Critical Value ({key}): {value}')\n",
    "print('---\\n')\n",
    "# Determine if the series is stationary\n",
    "p_value = result[1]\n",
    "if p_value < 0.05:\n",
    "    print(\"The data is stationary (reject the null hypothesis).\")\n",
    "else:\n",
    "    print(\"The data is non-stationary (fail to reject the null hypothesis).\")\n",
    "print('---\\n')"
   ]
  },
  {
   "cell_type": "code",
   "execution_count": 4,
   "metadata": {},
   "outputs": [],
   "source": [
    "diff_data = data['aapl_adj_close'].diff().dropna()"
   ]
  },
  {
   "cell_type": "code",
   "execution_count": 5,
   "metadata": {},
   "outputs": [
    {
     "name": "stdout",
     "output_type": "stream",
     "text": [
      "ADF Test for Differenced AAPL Stock Price:\n",
      "ADF Statistic: -42.56427958822331\n",
      "p-value: 0.0\n",
      "Critical Value (1%): -3.434054083572257\n",
      "Critical Value (5%): -2.8631761468358614\n",
      "Critical Value (10%): -2.567641034389652\n",
      "---\n",
      "\n",
      "The data is stationary (reject the null hypothesis).\n",
      "---\n",
      "\n"
     ]
    }
   ],
   "source": [
    "# Perform ADF Test and print results\n",
    "result = adfuller(diff_data)\n",
    "print(f'ADF Test for Differenced AAPL Stock Price:')\n",
    "print(f'ADF Statistic: {result[0]}')\n",
    "print(f'p-value: {result[1]}')\n",
    "for key, value in result[4].items():\n",
    "    print(f'Critical Value ({key}): {value}')\n",
    "print('---\\n')\n",
    "# Determine if the series is stationary\n",
    "p_value = result[1]\n",
    "if p_value < 0.05:\n",
    "    print(\"The data is stationary (reject the null hypothesis).\")\n",
    "else:\n",
    "    print(\"The data is non-stationary (fail to reject the null hypothesis).\")\n",
    "print('---\\n')"
   ]
  },
  {
   "cell_type": "markdown",
   "metadata": {},
   "source": [
    "# Normalise Data"
   ]
  },
  {
   "cell_type": "code",
   "execution_count": 6,
   "metadata": {},
   "outputs": [],
   "source": [
    "y = data['aapl_adj_close']\n",
    "X = data.drop(columns=['aapl_adj_close'])\n",
    "\n",
    "# Initialize the StandardScaler\n",
    "scaler_X = StandardScaler()\n",
    "scaler_y = StandardScaler()\n",
    "\n",
    "# Fit and transform the features (X)\n",
    "X_scaled = scaler_X.fit_transform(X)\n",
    "\n",
    "# Convert the scaled X back to a DataFrame with original column names\n",
    "X_scaled = pd.DataFrame(X_scaled, columns=X.columns, index=X.index)\n",
    "\n",
    "# Fit and transform the target (y), needs to be reshaped as it's 1D\n",
    "y_scaled = scaler_y.fit_transform(y.values.reshape(-1, 1))\n",
    "\n",
    "# Convert the scaled y back to a DataFrame to preserve column name\n",
    "y_scaled = pd.DataFrame(y_scaled, columns=['aapl_adj_close'], index=y.index)\n"
   ]
  },
  {
   "cell_type": "markdown",
   "metadata": {},
   "source": [
    "# Train-Test Split"
   ]
  },
  {
   "cell_type": "code",
   "execution_count": 7,
   "metadata": {},
   "outputs": [
    {
     "name": "stdout",
     "output_type": "stream",
     "text": [
      "Train size: 1416, Test size: 354\n"
     ]
    }
   ],
   "source": [
    "train_size = 0.8\n",
    "ntrain = round(len(y) * 0.8)\n",
    "ntest = len(y) - ntrain\n",
    "X_train, X_test = X_scaled[:ntrain], X_scaled[ntrain:]\n",
    "y_train, y_test = y_scaled[:ntrain], y_scaled[ntrain:]\n",
    "print(f\"Train size: {ntrain}, Test size: {ntest}\")"
   ]
  },
  {
   "cell_type": "markdown",
   "metadata": {},
   "source": [
    "# ARIMA Model"
   ]
  },
  {
   "cell_type": "code",
   "execution_count": 8,
   "metadata": {},
   "outputs": [],
   "source": [
    "# Function to evaluate ARIMA model\n",
    "def evaluate_arima_model(y_train, y_test, arima_order):\n",
    "    # Fit the ARIMA model on the training set (target only)\n",
    "    model = ARIMA(y_train, order=arima_order)\n",
    "    model_fit = model.fit()\n",
    "    \n",
    "    # Forecasting the test set period\n",
    "    forecast = model_fit.forecast(steps=len(y_test))\n",
    "    \n",
    "    # Calculate RMSE between actual test set and the forecast\n",
    "    error = root_mean_squared_error(y_test, forecast)\n",
    "    \n",
    "    return error"
   ]
  },
  {
   "cell_type": "code",
   "execution_count": 9,
   "metadata": {},
   "outputs": [],
   "source": [
    "# Grid search for ARIMA hyperparameters (p, d, q)\n",
    "def grid_search_arima(y_train, y_test, p_values, d_values, q_values):\n",
    "    best_score, best_order = float(\"inf\"), None\n",
    "    for p in p_values:\n",
    "        for d in d_values:\n",
    "            for q in q_values:\n",
    "                order = (p, d, q)\n",
    "                try:\n",
    "                    rmse = evaluate_arima_model(y_train, y_test, order)\n",
    "                    if rmse < best_score:\n",
    "                        best_score, best_order = rmse, order\n",
    "                    print(f'ARIMA{order} RMSE={rmse}')\n",
    "                except:\n",
    "                    continue\n",
    "    print(f'Best ARIMA model: ARIMA{best_order} with MSE={best_score}')\n",
    "    return best_order"
   ]
  },
  {
   "cell_type": "code",
   "execution_count": 10,
   "metadata": {},
   "outputs": [],
   "source": [
    "# Define the range for p, d, and q \n",
    "p_values = range(0, 3)  # Try p = 0, 1, 2\n",
    "d_values = range(0, 2)  # Try d = 0, 1 (first differencing)\n",
    "q_values = range(0, 3)  # Try q = 0, 1, 2"
   ]
  },
  {
   "cell_type": "code",
   "execution_count": 11,
   "metadata": {},
   "outputs": [
    {
     "name": "stdout",
     "output_type": "stream",
     "text": [
      "ARIMA(0, 0, 0) RMSE=1.6685929650306184\n",
      "ARIMA(0, 0, 1) RMSE=1.6675630548890563\n",
      "ARIMA(0, 0, 2) RMSE=1.6666381294051413\n",
      "ARIMA(0, 1, 0) RMSE=0.5262053642964667\n",
      "ARIMA(0, 1, 1) RMSE=0.5253629009496265\n",
      "ARIMA(0, 1, 2) RMSE=0.5244941828720012\n",
      "ARIMA(1, 0, 0) RMSE=0.6878899446644163\n",
      "ARIMA(1, 0, 1) RMSE=0.6693350659768549\n",
      "ARIMA(1, 0, 2) RMSE=0.663391342565613\n",
      "ARIMA(1, 1, 0) RMSE=0.5254770588787014\n",
      "ARIMA(1, 1, 1) RMSE=0.5250351931519738\n",
      "ARIMA(1, 1, 2) RMSE=0.5243405729827953\n",
      "ARIMA(2, 0, 0) RMSE=0.668541672237654\n",
      "ARIMA(2, 0, 1) RMSE=0.649436755925256\n",
      "ARIMA(2, 0, 2) RMSE=0.5877589417152773\n",
      "ARIMA(2, 1, 0) RMSE=0.5246739623929134\n",
      "ARIMA(2, 1, 1) RMSE=0.5263803605130373\n",
      "ARIMA(2, 1, 2) RMSE=0.5245671119044343\n",
      "Best ARIMA model: ARIMA(1, 1, 2) with MSE=0.5243405729827953\n"
     ]
    }
   ],
   "source": [
    "# Perform grid search to find the best (p, d, q) values for ARIMA model\n",
    "best_order = grid_search_arima(y_train, y_test, p_values, d_values, q_values)"
   ]
  },
  {
   "cell_type": "markdown",
   "metadata": {},
   "source": [
    "### ARIMA Model Selection\n",
    "The ARIMA model was chosen based on the grid search over different values of p, d, and q. These parameters represent the following:\n",
    "\n",
    "- **p**: Number of lag observations included (Auto-regressive part)\n",
    "- **d**: Degree of differencing (to make the data stationary)\n",
    "- **q**: Size of the moving average window\n",
    "\n",
    "The grid search selected the best combination of parameters based on the lowest **AIC** (Akaike Information Criterion) or **MSE** (Mean Squared Error). Lower values of AIC/BIC indicate a better-fitting model."
   ]
  },
  {
   "cell_type": "code",
   "execution_count": 12,
   "metadata": {},
   "outputs": [],
   "source": [
    "# Fit the best ARIMA model on the full training data\n",
    "model = ARIMA(y_train, order=best_order)\n",
    "model_fit = model.fit()"
   ]
  },
  {
   "cell_type": "code",
   "execution_count": 13,
   "metadata": {},
   "outputs": [
    {
     "name": "stdout",
     "output_type": "stream",
     "text": [
      "                               SARIMAX Results                                \n",
      "==============================================================================\n",
      "Dep. Variable:         aapl_adj_close   No. Observations:                 1416\n",
      "Model:                 ARIMA(1, 1, 2)   Log Likelihood                2652.902\n",
      "Date:                Wed, 30 Oct 2024   AIC                          -5297.805\n",
      "Time:                        11:20:31   BIC                          -5276.785\n",
      "Sample:                             0   HQIC                         -5289.951\n",
      "                               - 1416                                         \n",
      "Covariance Type:                  opg                                         \n",
      "==============================================================================\n",
      "                 coef    std err          z      P>|z|      [0.025      0.975]\n",
      "------------------------------------------------------------------------------\n",
      "ar.L1          0.3135      0.556      0.564      0.573      -0.775       1.402\n",
      "ma.L1         -0.3675      0.558     -0.659      0.510      -1.460       0.725\n",
      "ma.L2         -0.0130      0.041     -0.319      0.750      -0.093       0.067\n",
      "sigma2         0.0014   3.12e-05     44.194      0.000       0.001       0.001\n",
      "===================================================================================\n",
      "Ljung-Box (L1) (Q):                   0.00   Jarque-Bera (JB):               842.94\n",
      "Prob(Q):                              0.95   Prob(JB):                         0.00\n",
      "Heteroskedasticity (H):              14.45   Skew:                            -0.05\n",
      "Prob(H) (two-sided):                  0.00   Kurtosis:                         6.78\n",
      "===================================================================================\n",
      "\n",
      "Warnings:\n",
      "[1] Covariance matrix calculated using the outer product of gradients (complex-step).\n"
     ]
    }
   ],
   "source": [
    "# Print the summary of the best ARIMA model\n",
    "print(model_fit.summary())"
   ]
  },
  {
   "cell_type": "markdown",
   "metadata": {},
   "source": [
    "### ARIMA Model Forecast vs. Actual Test Data\n",
    "In this plot, we compare the ARIMA model's forecast against the actual test data. The model was trained on 80% of the dataset and used to forecast the remaining 20% (test set).\n",
    "\n",
    "The red line represents the model’s forecast, while the blue line represents the actual test data. The closer these lines are, the more accurate the model is."
   ]
  },
  {
   "cell_type": "code",
   "execution_count": 14,
   "metadata": {},
   "outputs": [],
   "source": [
    "# Forecast the test set period\n",
    "forecast = model_fit.forecast(steps=len(y_test))\n",
    "\n",
    "# Inverse transform forecast and actual values to original scale\n",
    "forecast_unscaled = scaler_y.inverse_transform(forecast.to_numpy().reshape(-1, 1))\n",
    "y_test_unscaled = scaler_y.inverse_transform(y_test)\n",
    "y_train_unscaled = scaler_y.inverse_transform(y_train)"
   ]
  },
  {
   "cell_type": "markdown",
   "metadata": {},
   "source": [
    "### ARIMA Model Performance Analysis\n",
    "Visual Analysis: From the forecast plot, we can observe that the predicted values (red line) deviate significantly from the actual stock prices (orange line) in several areas. This indicates that the ARIMA model struggled to capture some of the underlying trends and volatility in the data. The stock prices exhibited complex patterns, including sharp rises and falls, which the ARIMA model could not fully accommodate."
   ]
  },
  {
   "cell_type": "code",
   "execution_count": 17,
   "metadata": {},
   "outputs": [
    {
     "ename": "AttributeError",
     "evalue": "'Series' object has no attribute 'flatten'",
     "output_type": "error",
     "traceback": [
      "\u001b[0;31m---------------------------------------------------------------------------\u001b[0m",
      "\u001b[0;31mAttributeError\u001b[0m                            Traceback (most recent call last)",
      "\u001b[0;32m/var/folders/qk/pj8jxcn90svgyjxc8p440q3c0000gn/T/ipykernel_54286/3499729130.py\u001b[0m in \u001b[0;36m?\u001b[0;34m()\u001b[0m\n\u001b[0;32m----> 2\u001b[0;31m \u001b[0;31m# Inverse transformation for better interpretability\u001b[0m\u001b[0;34m\u001b[0m\u001b[0;34m\u001b[0m\u001b[0m\n\u001b[0m\u001b[1;32m      3\u001b[0m \u001b[0my_train_unscaled\u001b[0m \u001b[0;34m=\u001b[0m \u001b[0mpd\u001b[0m\u001b[0;34m.\u001b[0m\u001b[0mSeries\u001b[0m\u001b[0;34m(\u001b[0m\u001b[0my_train_unscaled\u001b[0m\u001b[0;34m.\u001b[0m\u001b[0mflatten\u001b[0m\u001b[0;34m(\u001b[0m\u001b[0;34m)\u001b[0m\u001b[0;34m,\u001b[0m \u001b[0mindex\u001b[0m\u001b[0;34m=\u001b[0m\u001b[0my_train\u001b[0m\u001b[0;34m.\u001b[0m\u001b[0mindex\u001b[0m\u001b[0;34m)\u001b[0m\u001b[0;34m\u001b[0m\u001b[0;34m\u001b[0m\u001b[0m\n\u001b[1;32m      4\u001b[0m \u001b[0my_test_unscaled\u001b[0m \u001b[0;34m=\u001b[0m \u001b[0mpd\u001b[0m\u001b[0;34m.\u001b[0m\u001b[0mSeries\u001b[0m\u001b[0;34m(\u001b[0m\u001b[0my_test_unscaled\u001b[0m\u001b[0;34m.\u001b[0m\u001b[0mflatten\u001b[0m\u001b[0;34m(\u001b[0m\u001b[0;34m)\u001b[0m\u001b[0;34m,\u001b[0m \u001b[0mindex\u001b[0m\u001b[0;34m=\u001b[0m\u001b[0my_test\u001b[0m\u001b[0;34m.\u001b[0m\u001b[0mindex\u001b[0m\u001b[0;34m)\u001b[0m\u001b[0;34m\u001b[0m\u001b[0;34m\u001b[0m\u001b[0m\n\u001b[1;32m      5\u001b[0m \u001b[0mforecast_unscaled\u001b[0m \u001b[0;34m=\u001b[0m \u001b[0mpd\u001b[0m\u001b[0;34m.\u001b[0m\u001b[0mSeries\u001b[0m\u001b[0;34m(\u001b[0m\u001b[0mforecast_unscaled\u001b[0m\u001b[0;34m.\u001b[0m\u001b[0mflatten\u001b[0m\u001b[0;34m(\u001b[0m\u001b[0;34m)\u001b[0m\u001b[0;34m,\u001b[0m \u001b[0mindex\u001b[0m\u001b[0;34m=\u001b[0m\u001b[0my_test\u001b[0m\u001b[0;34m.\u001b[0m\u001b[0mindex\u001b[0m\u001b[0;34m)\u001b[0m\u001b[0;34m\u001b[0m\u001b[0;34m\u001b[0m\u001b[0m\n",
      "\u001b[0;32m/Library/Frameworks/Python.framework/Versions/3.9/lib/python3.9/site-packages/pandas/core/generic.py\u001b[0m in \u001b[0;36m?\u001b[0;34m(self, name)\u001b[0m\n\u001b[1;32m   6295\u001b[0m             \u001b[0;32mand\u001b[0m \u001b[0mname\u001b[0m \u001b[0;32mnot\u001b[0m \u001b[0;32min\u001b[0m \u001b[0mself\u001b[0m\u001b[0;34m.\u001b[0m\u001b[0m_accessors\u001b[0m\u001b[0;34m\u001b[0m\u001b[0;34m\u001b[0m\u001b[0m\n\u001b[1;32m   6296\u001b[0m             \u001b[0;32mand\u001b[0m \u001b[0mself\u001b[0m\u001b[0;34m.\u001b[0m\u001b[0m_info_axis\u001b[0m\u001b[0;34m.\u001b[0m\u001b[0m_can_hold_identifiers_and_holds_name\u001b[0m\u001b[0;34m(\u001b[0m\u001b[0mname\u001b[0m\u001b[0;34m)\u001b[0m\u001b[0;34m\u001b[0m\u001b[0;34m\u001b[0m\u001b[0m\n\u001b[1;32m   6297\u001b[0m         ):\n\u001b[1;32m   6298\u001b[0m             \u001b[0;32mreturn\u001b[0m \u001b[0mself\u001b[0m\u001b[0;34m[\u001b[0m\u001b[0mname\u001b[0m\u001b[0;34m]\u001b[0m\u001b[0;34m\u001b[0m\u001b[0;34m\u001b[0m\u001b[0m\n\u001b[0;32m-> 6299\u001b[0;31m         \u001b[0;32mreturn\u001b[0m \u001b[0mobject\u001b[0m\u001b[0;34m.\u001b[0m\u001b[0m__getattribute__\u001b[0m\u001b[0;34m(\u001b[0m\u001b[0mself\u001b[0m\u001b[0;34m,\u001b[0m \u001b[0mname\u001b[0m\u001b[0;34m)\u001b[0m\u001b[0;34m\u001b[0m\u001b[0;34m\u001b[0m\u001b[0m\n\u001b[0m",
      "\u001b[0;31mAttributeError\u001b[0m: 'Series' object has no attribute 'flatten'"
     ]
    }
   ],
   "source": [
    "# Inverse transformation for better interpretability\n",
    "y_train_unscaled = pd.Series(y_train_unscaled.flatten(), index=y_train.index)\n",
    "y_test_unscaled = pd.Series(y_test_unscaled.flatten(), index=y_test.index)\n",
    "forecast_unscaled = pd.Series(forecast_unscaled.flatten(), index=y_test.index)\n",
    "\n",
    "plt.figure(figsize=(10, 6))\n",
    "plt.plot(y_train_unscaled.index, y_train_unscaled, label='Train Data (Unscaled)')\n",
    "plt.plot(y_test_unscaled.index, y_test_unscaled, label='Actual Test Data (Unscaled)')\n",
    "plt.plot(forecast_unscaled.index, forecast_unscaled, label='Forecast (Unscaled)', color='red')\n",
    "plt.title('ARIMA Model Forecast vs Actual Test Data (Unscaled)')\n",
    "plt.xlabel('Date')\n",
    "plt.ylabel('Stock Price')\n",
    "plt.legend()\n",
    "plt.show()"
   ]
  },
  {
   "cell_type": "markdown",
   "metadata": {},
   "source": [
    "### Quantitative Analysis: \n",
    "\n",
    "The performance of the ARIMA model was further evaluated using the following error metrics - RMSE and MAE.\n",
    "\n",
    "Interpretation: RMSE and MAE are approximately 100% of the average stock price. Such high error values suggest that the model may not be fully effective in forecasting stock prices, especially in financial time series where even small deviations can significantly impact predictive accuracy. These high errors also imply that the ARIMA model may not be accounting well for the volatility. There is a need to explore more advanced models, such as SARIMA, ARIMAX or LSTMs."
   ]
  },
  {
   "cell_type": "code",
   "execution_count": 19,
   "metadata": {},
   "outputs": [
    {
     "name": "stdout",
     "output_type": "stream",
     "text": [
      "Root Mean Squared Error (RMSE): 189.98267082265536\n",
      "Mean Absolute Error (MAE): 189.0875131762852\n",
      "Mean Absolute Percentage Error (MAPE): 99.52434468221833\n"
     ]
    }
   ],
   "source": [
    "rmse = root_mean_squared_error(y_test_unscaled, forecast)\n",
    "mae = mean_absolute_error(y_test_unscaled, forecast)\n",
    "mape = mean_absolute_percentage_error(y_test_unscaled, forecast) * 100\n",
    "\n",
    "print(f'Root Mean Squared Error (RMSE): {rmse}')\n",
    "print(f'Mean Absolute Error (MAE): {mae}')\n",
    "print(f'Mean Absolute Percentage Error (MAPE): {mape}')"
   ]
  },
  {
   "cell_type": "code",
   "execution_count": 20,
   "metadata": {},
   "outputs": [
    {
     "name": "stdout",
     "output_type": "stream",
     "text": [
      "Average Stock Price in Test Set: 189.98330093642411\n",
      "RMSE as percentage of average price: 99.9996683320241%\n",
      "MAE as percentage of average price: 99.52849131701387%\n",
      "MAPE as percentage of average price: 52.385838224551684%\n"
     ]
    }
   ],
   "source": [
    "# Calculate average stock price in y_test for comparison\n",
    "average_price = np.mean(y_test_unscaled)\n",
    "\n",
    "# Calculate percentage of RMSE and MAE relative to the average price\n",
    "rmse_percentage = (rmse / average_price) * 100\n",
    "mae_percentage = (mae / average_price) * 100\n",
    "mape_percentage = (mape / average_price) * 100\n",
    "\n",
    "print(f'Average Stock Price in Test Set: {average_price}')\n",
    "print(f'RMSE as percentage of average price: {rmse_percentage}%')\n",
    "print(f'MAE as percentage of average price: {mae_percentage}%')\n",
    "print(f'MAPE as percentage of average price: {mape_percentage}%')"
   ]
  },
  {
   "cell_type": "markdown",
   "metadata": {},
   "source": [
    "# Sliding window ARIMA with exogenous variables (ARIMAX)\n",
    "\n",
    "To better capture dynamic changes in financial data, this approach re-trains the model on a sliding window basis. Using exogenous variables adds external influences to improve prediction accuracy. We implement 2 adjustments:\n",
    "1. Sliding Window ARIMA: A rolling window approach to allow the model to continually re-train on the latest data, adapting better to recent market changes while preserving historical patterns, which is essential for dynamic financial series.\n",
    "2. Exogenous Variables (ARIMAX): Including external variables (other stocks - MSFT, GOOGL, AMZN, TSLA, META) could add predictive power to the model by accounting for factors beyond historical stock prices"
   ]
  },
  {
   "cell_type": "code",
   "execution_count": 21,
   "metadata": {},
   "outputs": [],
   "source": [
    "# Initialize parameters\n",
    "\n",
    "# The 60-day window size is a reasonable one as it provides roughly two months of recent data to capture short-term trends while maintaining adaptability to new patterns\n",
    "window_size = 60  \n",
    "#  Based on prior ARIMA analysis, fine-tuned with grid search\n",
    "p, d, q = 1, 1, 2  "
   ]
  },
  {
   "cell_type": "code",
   "execution_count": 22,
   "metadata": {},
   "outputs": [],
   "source": [
    "# This model will re-train on each 60-day window to better predict the next data point.\n",
    "# Lists to store predictions\n",
    "predictions = []\n",
    "\n",
    "# Iterate over the test set with a sliding window\n",
    "for i in range(len(y_test)):\n",
    "    # Define training data for the current window\n",
    "    X_window = pd.concat([X_train, X_test.iloc[:i]]).iloc[-window_size:]\n",
    "    y_window = pd.concat([y_train, y_test.iloc[:i]]).iloc[-window_size:]\n",
    "\n",
    "    # Fit the ARIMAX model on the window\n",
    "    model = ARIMA(endog=y_window, exog=X_window, order=(p, d, q))\n",
    "    model_fit = model.fit()\n",
    "    \n",
    "    # Forecast the next step using the current window model\n",
    "    forecast = model_fit.forecast(steps=1, exog=X_test.iloc[i:i+1])\n",
    "    \n",
    "    # Store the prediction\n",
    "    predictions.append(forecast.values[0])\n",
    "\n",
    "# Inverse transformation for better interpretability \n",
    "y_test_unscaled = scaler_y.inverse_transform(y_test)\n",
    "predictions_unscaled = scaler_y.inverse_transform(np.array(predictions).reshape(-1, 1))"
   ]
  },
  {
   "cell_type": "markdown",
   "metadata": {},
   "source": [
    "### Sliding Window ARIMAX Forecast Results\n",
    "\n",
    "The sliding window ARIMAX model was applied, with a 60-day window to continually update the model with recent data. Predictions are generated iteratively for each time step in the test set."
   ]
  },
  {
   "cell_type": "code",
   "execution_count": 23,
   "metadata": {},
   "outputs": [
    {
     "ename": "ValueError",
     "evalue": "Multi-dimensional indexing (e.g. `obj[:, None]`) is no longer supported. Convert to a numpy array before indexing instead.",
     "output_type": "error",
     "traceback": [
      "\u001b[0;31m---------------------------------------------------------------------------\u001b[0m",
      "\u001b[0;31mValueError\u001b[0m                                Traceback (most recent call last)",
      "Cell \u001b[0;32mIn[23], line 2\u001b[0m\n\u001b[1;32m      1\u001b[0m plt\u001b[38;5;241m.\u001b[39mfigure(figsize\u001b[38;5;241m=\u001b[39m(\u001b[38;5;241m10\u001b[39m, \u001b[38;5;241m6\u001b[39m))\n\u001b[0;32m----> 2\u001b[0m \u001b[43mplt\u001b[49m\u001b[38;5;241;43m.\u001b[39;49m\u001b[43mplot\u001b[49m\u001b[43m(\u001b[49m\u001b[43my\u001b[49m\u001b[38;5;241;43m.\u001b[39;49m\u001b[43mindex\u001b[49m\u001b[43m[\u001b[49m\u001b[43mntrain\u001b[49m\u001b[43m:\u001b[49m\u001b[43m]\u001b[49m\u001b[43m,\u001b[49m\u001b[43m \u001b[49m\u001b[43my_test_unscaled\u001b[49m\u001b[43m,\u001b[49m\u001b[43m \u001b[49m\u001b[43mlabel\u001b[49m\u001b[38;5;241;43m=\u001b[39;49m\u001b[38;5;124;43m'\u001b[39;49m\u001b[38;5;124;43mActual Test Data\u001b[39;49m\u001b[38;5;124;43m'\u001b[39;49m\u001b[43m)\u001b[49m\n\u001b[1;32m      3\u001b[0m plt\u001b[38;5;241m.\u001b[39mplot(y\u001b[38;5;241m.\u001b[39mindex[ntrain:], predictions_unscaled, color\u001b[38;5;241m=\u001b[39m\u001b[38;5;124m'\u001b[39m\u001b[38;5;124mred\u001b[39m\u001b[38;5;124m'\u001b[39m, label\u001b[38;5;241m=\u001b[39m\u001b[38;5;124m'\u001b[39m\u001b[38;5;124mARIMAX Sliding Window Forecast\u001b[39m\u001b[38;5;124m'\u001b[39m)\n\u001b[1;32m      4\u001b[0m plt\u001b[38;5;241m.\u001b[39mtitle(\u001b[38;5;124m'\u001b[39m\u001b[38;5;124mARIMAX Sliding Window Forecast vs Actual Test Data\u001b[39m\u001b[38;5;124m'\u001b[39m)\n",
      "File \u001b[0;32m/Library/Frameworks/Python.framework/Versions/3.9/lib/python3.9/site-packages/matplotlib/pyplot.py:2757\u001b[0m, in \u001b[0;36mplot\u001b[0;34m(scalex, scaley, data, *args, **kwargs)\u001b[0m\n\u001b[1;32m   2755\u001b[0m \u001b[38;5;129m@_copy_docstring_and_deprecators\u001b[39m(Axes\u001b[38;5;241m.\u001b[39mplot)\n\u001b[1;32m   2756\u001b[0m \u001b[38;5;28;01mdef\u001b[39;00m \u001b[38;5;21mplot\u001b[39m(\u001b[38;5;241m*\u001b[39margs, scalex\u001b[38;5;241m=\u001b[39m\u001b[38;5;28;01mTrue\u001b[39;00m, scaley\u001b[38;5;241m=\u001b[39m\u001b[38;5;28;01mTrue\u001b[39;00m, data\u001b[38;5;241m=\u001b[39m\u001b[38;5;28;01mNone\u001b[39;00m, \u001b[38;5;241m*\u001b[39m\u001b[38;5;241m*\u001b[39mkwargs):\n\u001b[0;32m-> 2757\u001b[0m     \u001b[38;5;28;01mreturn\u001b[39;00m \u001b[43mgca\u001b[49m\u001b[43m(\u001b[49m\u001b[43m)\u001b[49m\u001b[38;5;241;43m.\u001b[39;49m\u001b[43mplot\u001b[49m\u001b[43m(\u001b[49m\n\u001b[1;32m   2758\u001b[0m \u001b[43m        \u001b[49m\u001b[38;5;241;43m*\u001b[39;49m\u001b[43margs\u001b[49m\u001b[43m,\u001b[49m\u001b[43m \u001b[49m\u001b[43mscalex\u001b[49m\u001b[38;5;241;43m=\u001b[39;49m\u001b[43mscalex\u001b[49m\u001b[43m,\u001b[49m\u001b[43m \u001b[49m\u001b[43mscaley\u001b[49m\u001b[38;5;241;43m=\u001b[39;49m\u001b[43mscaley\u001b[49m\u001b[43m,\u001b[49m\n\u001b[1;32m   2759\u001b[0m \u001b[43m        \u001b[49m\u001b[38;5;241;43m*\u001b[39;49m\u001b[38;5;241;43m*\u001b[39;49m\u001b[43m(\u001b[49m\u001b[43m{\u001b[49m\u001b[38;5;124;43m\"\u001b[39;49m\u001b[38;5;124;43mdata\u001b[39;49m\u001b[38;5;124;43m\"\u001b[39;49m\u001b[43m:\u001b[49m\u001b[43m \u001b[49m\u001b[43mdata\u001b[49m\u001b[43m}\u001b[49m\u001b[43m \u001b[49m\u001b[38;5;28;43;01mif\u001b[39;49;00m\u001b[43m \u001b[49m\u001b[43mdata\u001b[49m\u001b[43m \u001b[49m\u001b[38;5;129;43;01mis\u001b[39;49;00m\u001b[43m \u001b[49m\u001b[38;5;129;43;01mnot\u001b[39;49;00m\u001b[43m \u001b[49m\u001b[38;5;28;43;01mNone\u001b[39;49;00m\u001b[43m \u001b[49m\u001b[38;5;28;43;01melse\u001b[39;49;00m\u001b[43m \u001b[49m\u001b[43m{\u001b[49m\u001b[43m}\u001b[49m\u001b[43m)\u001b[49m\u001b[43m,\u001b[49m\u001b[43m \u001b[49m\u001b[38;5;241;43m*\u001b[39;49m\u001b[38;5;241;43m*\u001b[39;49m\u001b[43mkwargs\u001b[49m\u001b[43m)\u001b[49m\n",
      "File \u001b[0;32m/Library/Frameworks/Python.framework/Versions/3.9/lib/python3.9/site-packages/matplotlib/axes/_axes.py:1632\u001b[0m, in \u001b[0;36mAxes.plot\u001b[0;34m(self, scalex, scaley, data, *args, **kwargs)\u001b[0m\n\u001b[1;32m   1390\u001b[0m \u001b[38;5;250m\u001b[39m\u001b[38;5;124;03m\"\"\"\u001b[39;00m\n\u001b[1;32m   1391\u001b[0m \u001b[38;5;124;03mPlot y versus x as lines and/or markers.\u001b[39;00m\n\u001b[1;32m   1392\u001b[0m \n\u001b[0;32m   (...)\u001b[0m\n\u001b[1;32m   1629\u001b[0m \u001b[38;5;124;03m(``'green'``) or hex strings (``'#008000'``).\u001b[39;00m\n\u001b[1;32m   1630\u001b[0m \u001b[38;5;124;03m\"\"\"\u001b[39;00m\n\u001b[1;32m   1631\u001b[0m kwargs \u001b[38;5;241m=\u001b[39m cbook\u001b[38;5;241m.\u001b[39mnormalize_kwargs(kwargs, mlines\u001b[38;5;241m.\u001b[39mLine2D)\n\u001b[0;32m-> 1632\u001b[0m lines \u001b[38;5;241m=\u001b[39m [\u001b[38;5;241m*\u001b[39m\u001b[38;5;28mself\u001b[39m\u001b[38;5;241m.\u001b[39m_get_lines(\u001b[38;5;241m*\u001b[39margs, data\u001b[38;5;241m=\u001b[39mdata, \u001b[38;5;241m*\u001b[39m\u001b[38;5;241m*\u001b[39mkwargs)]\n\u001b[1;32m   1633\u001b[0m \u001b[38;5;28;01mfor\u001b[39;00m line \u001b[38;5;129;01min\u001b[39;00m lines:\n\u001b[1;32m   1634\u001b[0m     \u001b[38;5;28mself\u001b[39m\u001b[38;5;241m.\u001b[39madd_line(line)\n",
      "File \u001b[0;32m/Library/Frameworks/Python.framework/Versions/3.9/lib/python3.9/site-packages/matplotlib/axes/_base.py:312\u001b[0m, in \u001b[0;36m_process_plot_var_args.__call__\u001b[0;34m(self, data, *args, **kwargs)\u001b[0m\n\u001b[1;32m    310\u001b[0m     this \u001b[38;5;241m+\u001b[39m\u001b[38;5;241m=\u001b[39m args[\u001b[38;5;241m0\u001b[39m],\n\u001b[1;32m    311\u001b[0m     args \u001b[38;5;241m=\u001b[39m args[\u001b[38;5;241m1\u001b[39m:]\n\u001b[0;32m--> 312\u001b[0m \u001b[38;5;28;01myield from\u001b[39;00m \u001b[38;5;28;43mself\u001b[39;49m\u001b[38;5;241;43m.\u001b[39;49m\u001b[43m_plot_args\u001b[49m\u001b[43m(\u001b[49m\u001b[43mthis\u001b[49m\u001b[43m,\u001b[49m\u001b[43m \u001b[49m\u001b[43mkwargs\u001b[49m\u001b[43m)\u001b[49m\n",
      "File \u001b[0;32m/Library/Frameworks/Python.framework/Versions/3.9/lib/python3.9/site-packages/matplotlib/axes/_base.py:487\u001b[0m, in \u001b[0;36m_process_plot_var_args._plot_args\u001b[0;34m(self, tup, kwargs, return_kwargs)\u001b[0m\n\u001b[1;32m    484\u001b[0m         kw[prop_name] \u001b[38;5;241m=\u001b[39m val\n\u001b[1;32m    486\u001b[0m \u001b[38;5;28;01mif\u001b[39;00m \u001b[38;5;28mlen\u001b[39m(xy) \u001b[38;5;241m==\u001b[39m \u001b[38;5;241m2\u001b[39m:\n\u001b[0;32m--> 487\u001b[0m     x \u001b[38;5;241m=\u001b[39m \u001b[43m_check_1d\u001b[49m\u001b[43m(\u001b[49m\u001b[43mxy\u001b[49m\u001b[43m[\u001b[49m\u001b[38;5;241;43m0\u001b[39;49m\u001b[43m]\u001b[49m\u001b[43m)\u001b[49m\n\u001b[1;32m    488\u001b[0m     y \u001b[38;5;241m=\u001b[39m _check_1d(xy[\u001b[38;5;241m1\u001b[39m])\n\u001b[1;32m    489\u001b[0m \u001b[38;5;28;01melse\u001b[39;00m:\n",
      "File \u001b[0;32m/Library/Frameworks/Python.framework/Versions/3.9/lib/python3.9/site-packages/matplotlib/cbook/__init__.py:1327\u001b[0m, in \u001b[0;36m_check_1d\u001b[0;34m(x)\u001b[0m\n\u001b[1;32m   1321\u001b[0m \u001b[38;5;28;01mwith\u001b[39;00m warnings\u001b[38;5;241m.\u001b[39mcatch_warnings(record\u001b[38;5;241m=\u001b[39m\u001b[38;5;28;01mTrue\u001b[39;00m) \u001b[38;5;28;01mas\u001b[39;00m w:\n\u001b[1;32m   1322\u001b[0m     warnings\u001b[38;5;241m.\u001b[39mfilterwarnings(\n\u001b[1;32m   1323\u001b[0m         \u001b[38;5;124m\"\u001b[39m\u001b[38;5;124malways\u001b[39m\u001b[38;5;124m\"\u001b[39m,\n\u001b[1;32m   1324\u001b[0m         category\u001b[38;5;241m=\u001b[39m\u001b[38;5;167;01mWarning\u001b[39;00m,\n\u001b[1;32m   1325\u001b[0m         message\u001b[38;5;241m=\u001b[39m\u001b[38;5;124m'\u001b[39m\u001b[38;5;124mSupport for multi-dimensional indexing\u001b[39m\u001b[38;5;124m'\u001b[39m)\n\u001b[0;32m-> 1327\u001b[0m     ndim \u001b[38;5;241m=\u001b[39m \u001b[43mx\u001b[49m\u001b[43m[\u001b[49m\u001b[43m:\u001b[49m\u001b[43m,\u001b[49m\u001b[43m \u001b[49m\u001b[38;5;28;43;01mNone\u001b[39;49;00m\u001b[43m]\u001b[49m\u001b[38;5;241m.\u001b[39mndim\n\u001b[1;32m   1328\u001b[0m     \u001b[38;5;66;03m# we have definitely hit a pandas index or series object\u001b[39;00m\n\u001b[1;32m   1329\u001b[0m     \u001b[38;5;66;03m# cast to a numpy array.\u001b[39;00m\n\u001b[1;32m   1330\u001b[0m     \u001b[38;5;28;01mif\u001b[39;00m \u001b[38;5;28mlen\u001b[39m(w) \u001b[38;5;241m>\u001b[39m \u001b[38;5;241m0\u001b[39m:\n",
      "File \u001b[0;32m/Library/Frameworks/Python.framework/Versions/3.9/lib/python3.9/site-packages/pandas/core/indexes/base.py:5419\u001b[0m, in \u001b[0;36mIndex.__getitem__\u001b[0;34m(self, key)\u001b[0m\n\u001b[1;32m   5417\u001b[0m \u001b[38;5;66;03m# Because we ruled out integer above, we always get an arraylike here\u001b[39;00m\n\u001b[1;32m   5418\u001b[0m \u001b[38;5;28;01mif\u001b[39;00m result\u001b[38;5;241m.\u001b[39mndim \u001b[38;5;241m>\u001b[39m \u001b[38;5;241m1\u001b[39m:\n\u001b[0;32m-> 5419\u001b[0m     \u001b[43mdisallow_ndim_indexing\u001b[49m\u001b[43m(\u001b[49m\u001b[43mresult\u001b[49m\u001b[43m)\u001b[49m\n\u001b[1;32m   5421\u001b[0m \u001b[38;5;66;03m# NB: Using _constructor._simple_new would break if MultiIndex\u001b[39;00m\n\u001b[1;32m   5422\u001b[0m \u001b[38;5;66;03m#  didn't override __getitem__\u001b[39;00m\n\u001b[1;32m   5423\u001b[0m \u001b[38;5;28;01mreturn\u001b[39;00m \u001b[38;5;28mself\u001b[39m\u001b[38;5;241m.\u001b[39m_constructor\u001b[38;5;241m.\u001b[39m_simple_new(result, name\u001b[38;5;241m=\u001b[39m\u001b[38;5;28mself\u001b[39m\u001b[38;5;241m.\u001b[39m_name)\n",
      "File \u001b[0;32m/Library/Frameworks/Python.framework/Versions/3.9/lib/python3.9/site-packages/pandas/core/indexers/utils.py:341\u001b[0m, in \u001b[0;36mdisallow_ndim_indexing\u001b[0;34m(result)\u001b[0m\n\u001b[1;32m    333\u001b[0m \u001b[38;5;250m\u001b[39m\u001b[38;5;124;03m\"\"\"\u001b[39;00m\n\u001b[1;32m    334\u001b[0m \u001b[38;5;124;03mHelper function to disallow multi-dimensional indexing on 1D Series/Index.\u001b[39;00m\n\u001b[1;32m    335\u001b[0m \n\u001b[0;32m   (...)\u001b[0m\n\u001b[1;32m    338\u001b[0m \u001b[38;5;124;03min GH#30588.\u001b[39;00m\n\u001b[1;32m    339\u001b[0m \u001b[38;5;124;03m\"\"\"\u001b[39;00m\n\u001b[1;32m    340\u001b[0m \u001b[38;5;28;01mif\u001b[39;00m np\u001b[38;5;241m.\u001b[39mndim(result) \u001b[38;5;241m>\u001b[39m \u001b[38;5;241m1\u001b[39m:\n\u001b[0;32m--> 341\u001b[0m     \u001b[38;5;28;01mraise\u001b[39;00m \u001b[38;5;167;01mValueError\u001b[39;00m(\n\u001b[1;32m    342\u001b[0m         \u001b[38;5;124m\"\u001b[39m\u001b[38;5;124mMulti-dimensional indexing (e.g. `obj[:, None]`) is no longer \u001b[39m\u001b[38;5;124m\"\u001b[39m\n\u001b[1;32m    343\u001b[0m         \u001b[38;5;124m\"\u001b[39m\u001b[38;5;124msupported. Convert to a numpy array before indexing instead.\u001b[39m\u001b[38;5;124m\"\u001b[39m\n\u001b[1;32m    344\u001b[0m     )\n",
      "\u001b[0;31mValueError\u001b[0m: Multi-dimensional indexing (e.g. `obj[:, None]`) is no longer supported. Convert to a numpy array before indexing instead."
     ]
    },
    {
     "data": {
      "image/png": "[encoded data removed]",
      "text/plain": [
       "<Figure size 1000x600 with 1 Axes>"
      ]
     },
     "metadata": {},
     "output_type": "display_data"
    }
   ],
   "source": [
    "plt.figure(figsize=(10, 6))\n",
    "plt.plot(y.index[ntrain:], y_test_unscaled, label='Actual Test Data')\n",
    "plt.plot(y.index[ntrain:], predictions_unscaled, color='red', label='ARIMAX Sliding Window Forecast')\n",
    "plt.title('ARIMAX Sliding Window Forecast vs Actual Test Data')\n",
    "plt.xlabel('Date')\n",
    "plt.ylabel('Stock Price')\n",
    "plt.legend()\n",
    "plt.show()"
   ]
  },
  {
   "cell_type": "markdown",
   "metadata": {},
   "source": [
    "### Quantitative Analysis\n",
    "\n",
    "With RMSE and MAE values at 1.63% and 1.15% of the average stock price, respectively, the ARIMAX model shows strong predictive performance, capturing the general trend of stock prices with minimal error. In the context of financial time series data, where high volatility and complex patterns are typical, these results suggest that the ARIMAX model is well-suited to this dataset."
   ]
  },
  {
   "cell_type": "code",
   "execution_count": 24,
   "metadata": {},
   "outputs": [
    {
     "name": "stdout",
     "output_type": "stream",
     "text": [
      "Root Mean Squared Error (RMSE): 3.106412970913678\n",
      "Mean Absolute Error (MAE): 2.202864585712675\n",
      "Mean Absolute Percentage Error (MAPE): 1.1550555067424364\n"
     ]
    }
   ],
   "source": [
    "# Calculate RMSE and MAE\n",
    "rmse = root_mean_squared_error(y_test_unscaled, predictions_unscaled)\n",
    "mae = mean_absolute_error(y_test_unscaled, predictions_unscaled)\n",
    "mape = mean_absolute_percentage_error(y_test_unscaled, predictions_unscaled) * 100\n",
    "\n",
    "print(f'Root Mean Squared Error (RMSE): {rmse}')\n",
    "print(f'Mean Absolute Error (MAE): {mae}')\n",
    "print(f'Mean Absolute Percentage Error (MAPE): {mape}')"
   ]
  },
  {
   "cell_type": "code",
   "execution_count": 25,
   "metadata": {},
   "outputs": [
    {
     "name": "stdout",
     "output_type": "stream",
     "text": [
      "Average Stock Price in Test Set: 189.98330093642411\n",
      "RMSE as percentage of average price: 1.64%\n",
      "MAE as percentage of average price: 1.16%\n",
      "MAPE as percentage of average price: 0.61%\n"
     ]
    }
   ],
   "source": [
    "# Calculate average stock price in y_test_unscaled for comparison\n",
    "average_price = np.mean(y_test_unscaled)\n",
    "\n",
    "# Calculate RMSE and MAE as percentages of the average stock price\n",
    "rmse_percentage = (rmse / average_price) * 100\n",
    "mae_percentage = (mae / average_price) * 100\n",
    "mape_percentage = (mape / average_price) * 100\n",
    "\n",
    "print(f'Average Stock Price in Test Set: {average_price}')\n",
    "print(f'RMSE as percentage of average price: {rmse_percentage:.2f}%')\n",
    "print(f'MAE as percentage of average price: {mae_percentage:.2f}%')\n",
    "print(f'MAPE as percentage of average price: {mape_percentage:.2f}%')"
   ]
  }
 ],
 "metadata": {
  "kernelspec": {
   "display_name": "Python 3",
   "language": "python",
   "name": "python3"
  },
  "language_info": {
   "codemirror_mode": {
    "name": "ipython",
    "version": 3
   },
   "file_extension": ".py",
   "mimetype": "text/x-python",
   "name": "python",
   "nbconvert_exporter": "python",
   "pygments_lexer": "ipython3",
   "version": "3.9.9"
  }
 },
 "nbformat": 4,
 "nbformat_minor": 2
}
